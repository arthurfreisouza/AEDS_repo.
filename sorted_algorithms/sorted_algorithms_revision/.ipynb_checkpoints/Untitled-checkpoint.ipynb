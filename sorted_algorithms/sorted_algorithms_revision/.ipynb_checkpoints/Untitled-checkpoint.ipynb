{
 "cells": [
  {
   "cell_type": "code",
   "execution_count": 4,
   "id": "c4ec5367-54a7-4b7f-9a80-6c85886f98df",
   "metadata": {},
   "outputs": [],
   "source": [
    "import random"
   ]
  },
  {
   "cell_type": "code",
   "execution_count": 6,
   "id": "9d3a740d-9aa1-4270-875f-84cf3f3bf785",
   "metadata": {},
   "outputs": [],
   "source": [
    "valores_randomicos = [random.uniform(0.0, 1000.0) for _ in range(5000)]"
   ]
  },
  {
   "cell_type": "code",
   "execution_count": 8,
   "id": "d216179b-8abb-4cd9-8446-a3cdd9889371",
   "metadata": {},
   "outputs": [
    {
     "name": "stdout",
     "output_type": "stream",
     "text": [
      "669 ms ± 16 ms per loop (mean ± std. dev. of 7 runs, 1 loop each)\n"
     ]
    }
   ],
   "source": [
    "def bubble_sort(my_lst):\n",
    "    size = len(my_lst)\n",
    "    for i in range(size): \n",
    "        for j in range(0, size - 1 -i): # Para cada iteração de j, irei levar o maior elemento para o mais a direita possivel. Quando eu sair do loop j, o maior elemento estará na direita.\n",
    "            if my_lst[j] >= my_lst[j + 1]: \n",
    "                aux = my_lst[j]\n",
    "                my_lst[j] = my_lst[j + 1]\n",
    "                my_lst[j + 1] = aux\n",
    "\n",
    "    return my_lst\n",
    "\n",
    "%timeit bubble_sort(valores_randomicos)"
   ]
  },
  {
   "cell_type": "code",
   "execution_count": 11,
   "id": "2829d77c-bd72-4e2a-b682-d90aeae22883",
   "metadata": {},
   "outputs": [
    {
     "name": "stdout",
     "output_type": "stream",
     "text": [
      "563 µs ± 21.2 µs per loop (mean ± std. dev. of 7 runs, 1,000 loops each)\n"
     ]
    }
   ],
   "source": [
    "def insertion_sort(vector : list[int]) -> list[int]:\n",
    "    size = len(vector)\n",
    "    for i in range(1, size):\n",
    "        elem_highlighted  = vector[i] # Toda hora 1 elemento será marcado, e o que estiver a sua esquerda estará ordenado.\n",
    "\n",
    "        previous = i - 1 # Todos os elementos a esquerda do elemento marcado estará representado pela variável previous.\n",
    "        \n",
    "        while (previous >= 0 and elem_highlighted < vector[previous]): # Enquanto houver indice e o elemento marcado for menor...\n",
    "            vector[previous + 1] = vector[previous] # Deslocando...\n",
    "            previous -= 1\n",
    "        vector[previous + 1] = elem_highlighted # Encaixando o elemento na posição desejada...\n",
    "    \n",
    "    return vector\n",
    "\n",
    "%timeit insertion_sort(valores_randomicos)"
   ]
  },
  {
   "cell_type": "code",
   "execution_count": 12,
   "id": "11910380-340c-4e65-b146-572822ed91b4",
   "metadata": {},
   "outputs": [
    {
     "name": "stdout",
     "output_type": "stream",
     "text": [
      "566 ms ± 24.7 ms per loop (mean ± std. dev. of 7 runs, 1 loop each)\n"
     ]
    }
   ],
   "source": [
    "def selection_sort_it(vector : list[int]) -> list:\n",
    "    min = None\n",
    "    for i in range(len(vector)):\n",
    "        min = i\n",
    "        for j in range(i + 1, len(vector)): # Começarei a analisar após a variável i que já está na posição correta.\n",
    "            if vector[min] > vector[j]:\n",
    "                min = j\n",
    "        temp = vector[i]\n",
    "        vector[i] = vector[min]\n",
    "        vector[min] = temp\n",
    "    return vector\n",
    "\n",
    "%timeit selection_sort_it(valores_randomicos)"
   ]
  },
  {
   "cell_type": "code",
   "execution_count": null,
   "id": "4413a6c5-0762-452c-a263-757c8f2914b0",
   "metadata": {},
   "outputs": [],
   "source": [
    "def shell_sort(vector : list[int]) -> list[int]:\n",
    "    intervalo = len(vector) // 2 # Pegando o ponto central de 1 vetor.\n",
    "\n",
    "\n",
    "    while intervalo > 0: # Rodará enquanto eu puder dividir meu intervalo.\n",
    "        for i in range(intervalo, len(vector)): # Irei varrer o vetor o qual eu dividi.\n",
    "            temp = vector[i]\n",
    "            j = i # Salvando a posição parar comparar os valores de cada intervalo.\n",
    "\n",
    "            while j >= intervalo and vector[j - intervalo] > temp: # Entrará no loop enquanto der para trocar os valores\n",
    "                vector[j] = vector[j - intervalo] # Comparando os valores de cada posicao nos 2 intervalos...\n",
    "                j -= intervalo\n",
    "\n",
    "            vector[j] = temp\n",
    "\n",
    "        intervalo // 2 # Reduzindo o intervalo\n",
    "    return vector\n",
    "\n",
    "%timeit shell_sort(valores_randomicos)"
   ]
  },
  {
   "cell_type": "code",
   "execution_count": 15,
   "id": "0469eedb-8c13-4f15-b4f7-d28be5d00286",
   "metadata": {},
   "outputs": [
    {
     "ename": "UnboundLocalError",
     "evalue": "local variable 'left' referenced before assignment",
     "output_type": "error",
     "traceback": [
      "\u001b[0;31m---------------------------------------------------------------------------\u001b[0m",
      "\u001b[0;31mUnboundLocalError\u001b[0m                         Traceback (most recent call last)",
      "Cell \u001b[0;32mIn[15], line 33\u001b[0m\n\u001b[1;32m     30\u001b[0m         k \u001b[38;5;241m+\u001b[39m\u001b[38;5;241m=\u001b[39m \u001b[38;5;241m1\u001b[39m\n\u001b[1;32m     31\u001b[0m     \u001b[38;5;28;01mreturn\u001b[39;00m vector\n\u001b[0;32m---> 33\u001b[0m \u001b[43mget_ipython\u001b[49m\u001b[43m(\u001b[49m\u001b[43m)\u001b[49m\u001b[38;5;241;43m.\u001b[39;49m\u001b[43mrun_line_magic\u001b[49m\u001b[43m(\u001b[49m\u001b[38;5;124;43m'\u001b[39;49m\u001b[38;5;124;43mtimeit\u001b[39;49m\u001b[38;5;124;43m'\u001b[39;49m\u001b[43m,\u001b[49m\u001b[43m \u001b[49m\u001b[38;5;124;43m'\u001b[39;49m\u001b[38;5;124;43mmerge_sort(valores_randomicos)\u001b[39;49m\u001b[38;5;124;43m'\u001b[39;49m\u001b[43m)\u001b[49m\n",
      "File \u001b[0;32m~/.local/lib/python3.10/site-packages/IPython/core/interactiveshell.py:2456\u001b[0m, in \u001b[0;36mInteractiveShell.run_line_magic\u001b[0;34m(self, magic_name, line, _stack_depth)\u001b[0m\n\u001b[1;32m   2454\u001b[0m     kwargs[\u001b[38;5;124m'\u001b[39m\u001b[38;5;124mlocal_ns\u001b[39m\u001b[38;5;124m'\u001b[39m] \u001b[38;5;241m=\u001b[39m \u001b[38;5;28mself\u001b[39m\u001b[38;5;241m.\u001b[39mget_local_scope(stack_depth)\n\u001b[1;32m   2455\u001b[0m \u001b[38;5;28;01mwith\u001b[39;00m \u001b[38;5;28mself\u001b[39m\u001b[38;5;241m.\u001b[39mbuiltin_trap:\n\u001b[0;32m-> 2456\u001b[0m     result \u001b[38;5;241m=\u001b[39m \u001b[43mfn\u001b[49m\u001b[43m(\u001b[49m\u001b[38;5;241;43m*\u001b[39;49m\u001b[43margs\u001b[49m\u001b[43m,\u001b[49m\u001b[43m \u001b[49m\u001b[38;5;241;43m*\u001b[39;49m\u001b[38;5;241;43m*\u001b[39;49m\u001b[43mkwargs\u001b[49m\u001b[43m)\u001b[49m\n\u001b[1;32m   2458\u001b[0m \u001b[38;5;66;03m# The code below prevents the output from being displayed\u001b[39;00m\n\u001b[1;32m   2459\u001b[0m \u001b[38;5;66;03m# when using magics with decorator @output_can_be_silenced\u001b[39;00m\n\u001b[1;32m   2460\u001b[0m \u001b[38;5;66;03m# when the last Python token in the expression is a ';'.\u001b[39;00m\n\u001b[1;32m   2461\u001b[0m \u001b[38;5;28;01mif\u001b[39;00m \u001b[38;5;28mgetattr\u001b[39m(fn, magic\u001b[38;5;241m.\u001b[39mMAGIC_OUTPUT_CAN_BE_SILENCED, \u001b[38;5;28;01mFalse\u001b[39;00m):\n",
      "File \u001b[0;32m~/.local/lib/python3.10/site-packages/IPython/core/magics/execution.py:1185\u001b[0m, in \u001b[0;36mExecutionMagics.timeit\u001b[0;34m(self, line, cell, local_ns)\u001b[0m\n\u001b[1;32m   1183\u001b[0m \u001b[38;5;28;01mfor\u001b[39;00m index \u001b[38;5;129;01min\u001b[39;00m \u001b[38;5;28mrange\u001b[39m(\u001b[38;5;241m0\u001b[39m, \u001b[38;5;241m10\u001b[39m):\n\u001b[1;32m   1184\u001b[0m     number \u001b[38;5;241m=\u001b[39m \u001b[38;5;241m10\u001b[39m \u001b[38;5;241m*\u001b[39m\u001b[38;5;241m*\u001b[39m index\n\u001b[0;32m-> 1185\u001b[0m     time_number \u001b[38;5;241m=\u001b[39m \u001b[43mtimer\u001b[49m\u001b[38;5;241;43m.\u001b[39;49m\u001b[43mtimeit\u001b[49m\u001b[43m(\u001b[49m\u001b[43mnumber\u001b[49m\u001b[43m)\u001b[49m\n\u001b[1;32m   1186\u001b[0m     \u001b[38;5;28;01mif\u001b[39;00m time_number \u001b[38;5;241m>\u001b[39m\u001b[38;5;241m=\u001b[39m \u001b[38;5;241m0.2\u001b[39m:\n\u001b[1;32m   1187\u001b[0m         \u001b[38;5;28;01mbreak\u001b[39;00m\n",
      "File \u001b[0;32m~/.local/lib/python3.10/site-packages/IPython/core/magics/execution.py:173\u001b[0m, in \u001b[0;36mTimer.timeit\u001b[0;34m(self, number)\u001b[0m\n\u001b[1;32m    171\u001b[0m gc\u001b[38;5;241m.\u001b[39mdisable()\n\u001b[1;32m    172\u001b[0m \u001b[38;5;28;01mtry\u001b[39;00m:\n\u001b[0;32m--> 173\u001b[0m     timing \u001b[38;5;241m=\u001b[39m \u001b[38;5;28;43mself\u001b[39;49m\u001b[38;5;241;43m.\u001b[39;49m\u001b[43minner\u001b[49m\u001b[43m(\u001b[49m\u001b[43mit\u001b[49m\u001b[43m,\u001b[49m\u001b[43m \u001b[49m\u001b[38;5;28;43mself\u001b[39;49m\u001b[38;5;241;43m.\u001b[39;49m\u001b[43mtimer\u001b[49m\u001b[43m)\u001b[49m\n\u001b[1;32m    174\u001b[0m \u001b[38;5;28;01mfinally\u001b[39;00m:\n\u001b[1;32m    175\u001b[0m     \u001b[38;5;28;01mif\u001b[39;00m gcold:\n",
      "File \u001b[0;32m<magic-timeit>:1\u001b[0m, in \u001b[0;36minner\u001b[0;34m(_it, _timer)\u001b[0m\n",
      "Cell \u001b[0;32mIn[15], line 6\u001b[0m, in \u001b[0;36mmerge_sort\u001b[0;34m(vector)\u001b[0m\n\u001b[1;32m      4\u001b[0m     left \u001b[38;5;241m=\u001b[39m vector[ : division]\u001b[38;5;241m.\u001b[39mcopy()\n\u001b[1;32m      5\u001b[0m     right \u001b[38;5;241m=\u001b[39m vector[division : ]\u001b[38;5;241m.\u001b[39mcopy()\n\u001b[0;32m----> 6\u001b[0m \u001b[43mmerge_sort\u001b[49m\u001b[43m(\u001b[49m\u001b[43mleft\u001b[49m\u001b[43m)\u001b[49m\n\u001b[1;32m      7\u001b[0m merge_sort(right)\n\u001b[1;32m      9\u001b[0m \u001b[38;5;66;03m# Acima está toda a parte de divisão do vetor, que será realizada com recursão\u001b[39;00m\n",
      "Cell \u001b[0;32mIn[15], line 6\u001b[0m, in \u001b[0;36mmerge_sort\u001b[0;34m(vector)\u001b[0m\n\u001b[1;32m      4\u001b[0m     left \u001b[38;5;241m=\u001b[39m vector[ : division]\u001b[38;5;241m.\u001b[39mcopy()\n\u001b[1;32m      5\u001b[0m     right \u001b[38;5;241m=\u001b[39m vector[division : ]\u001b[38;5;241m.\u001b[39mcopy()\n\u001b[0;32m----> 6\u001b[0m \u001b[43mmerge_sort\u001b[49m\u001b[43m(\u001b[49m\u001b[43mleft\u001b[49m\u001b[43m)\u001b[49m\n\u001b[1;32m      7\u001b[0m merge_sort(right)\n\u001b[1;32m      9\u001b[0m \u001b[38;5;66;03m# Acima está toda a parte de divisão do vetor, que será realizada com recursão\u001b[39;00m\n",
      "    \u001b[0;31m[... skipping similar frames: merge_sort at line 6 (10 times)]\u001b[0m\n",
      "Cell \u001b[0;32mIn[15], line 6\u001b[0m, in \u001b[0;36mmerge_sort\u001b[0;34m(vector)\u001b[0m\n\u001b[1;32m      4\u001b[0m     left \u001b[38;5;241m=\u001b[39m vector[ : division]\u001b[38;5;241m.\u001b[39mcopy()\n\u001b[1;32m      5\u001b[0m     right \u001b[38;5;241m=\u001b[39m vector[division : ]\u001b[38;5;241m.\u001b[39mcopy()\n\u001b[0;32m----> 6\u001b[0m merge_sort(\u001b[43mleft\u001b[49m)\n\u001b[1;32m      7\u001b[0m merge_sort(right)\n\u001b[1;32m      9\u001b[0m \u001b[38;5;66;03m# Acima está toda a parte de divisão do vetor, que será realizada com recursão\u001b[39;00m\n",
      "\u001b[0;31mUnboundLocalError\u001b[0m: local variable 'left' referenced before assignment"
     ]
    }
   ],
   "source": [
    "def mergesort2(list, begin = 0, end = None):\n",
    "    if end is None:\n",
    "        end = len(list)\n",
    "    if (end - begin > 1):\n",
    "        half = (begin + end) // 2\n",
    "        # Irei dividir ambas as listas através de recursão e, quando ela ja estiver toda dividida, irei ter a variável half.\n",
    "        # Irei chamar a função merge quando a lista estiver toda dividida.\n",
    "        mergesort2(list, begin, half)\n",
    "        mergesort2(list, half, end)\n",
    "        merge(list, begin, half, end)\n",
    "\n",
    "# A função merge irá fazer o papel de ordenar toda a lista.\n",
    "def merge(list, begin, half, end):\n",
    "    left = list[begin : half]\n",
    "    right = list[half : end]\n",
    "    top_left_, top_right_ = 0, 0\n",
    "    for k in range(begin, end):\n",
    "        if top_left_ >= len(left): # Caso a lista da esquerda já tenha extrapolado todos os valores que a contém, irei usar apenas os valores da lista da direita.\n",
    "            list[k] = right[top_right_]\n",
    "            top_right_ = top_right_ + 1\n",
    "\n",
    "        elif top_right_ >= len(right): # Caso a lista da direita já tenha extrapolado todos os valores que a contém, irei usar apenas os valores da lista da esquerda.\n",
    "            list[k] = left[top_left_]\n",
    "            top_left_ = top_left_ + 1\n",
    "\n",
    "        elif left[top_left_] < right[top_right_]: # Irei comparar os valores na posição das 2 listas.\n",
    "            list[k] = left[top_left_]\n",
    "            top_left_ += 1\n",
    "        else:\n",
    "            list[k] = right[top_right_]\n",
    "            top_right_ += 1\n",
    "\n",
    "%timeit mergesort2(valores_randomicos)"
   ]
  },
  {
   "cell_type": "code",
   "execution_count": null,
   "id": "1c0cf7bd-1a96-410f-98b4-d7464e69d6f0",
   "metadata": {},
   "outputs": [],
   "source": []
  },
  {
   "cell_type": "code",
   "execution_count": null,
   "id": "b9378db3-b8e0-4f34-b91a-dcee87101443",
   "metadata": {},
   "outputs": [],
   "source": []
  }
 ],
 "metadata": {
  "kernelspec": {
   "display_name": "Python 3 (ipykernel)",
   "language": "python",
   "name": "python3"
  },
  "language_info": {
   "codemirror_mode": {
    "name": "ipython",
    "version": 3
   },
   "file_extension": ".py",
   "mimetype": "text/x-python",
   "name": "python",
   "nbconvert_exporter": "python",
   "pygments_lexer": "ipython3",
   "version": "3.10.12"
  }
 },
 "nbformat": 4,
 "nbformat_minor": 5
}
