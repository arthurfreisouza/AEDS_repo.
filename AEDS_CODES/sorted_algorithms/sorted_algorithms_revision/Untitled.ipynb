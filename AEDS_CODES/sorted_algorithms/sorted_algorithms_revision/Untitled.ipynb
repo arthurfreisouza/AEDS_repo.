{
 "cells": [
  {
   "cell_type": "code",
   "execution_count": 4,
   "id": "c4ec5367-54a7-4b7f-9a80-6c85886f98df",
   "metadata": {},
   "outputs": [],
   "source": [
    "import random"
   ]
  },
  {
   "cell_type": "code",
   "execution_count": 6,
   "id": "9d3a740d-9aa1-4270-875f-84cf3f3bf785",
   "metadata": {},
   "outputs": [],
   "source": [
    "valores_randomicos = [random.uniform(0.0, 1000.0) for _ in range(5000)]"
   ]
  },
  {
   "cell_type": "code",
   "execution_count": 8,
   "id": "d216179b-8abb-4cd9-8446-a3cdd9889371",
   "metadata": {},
   "outputs": [
    {
     "name": "stdout",
     "output_type": "stream",
     "text": [
      "669 ms ± 16 ms per loop (mean ± std. dev. of 7 runs, 1 loop each)\n"
     ]
    }
   ],
   "source": [
    "def bubble_sort(my_lst):\n",
    "    size = len(my_lst)\n",
    "    for i in range(size): \n",
    "        for j in range(0, size - 1 -i): # Para cada iteração de j, irei levar o maior elemento para o mais a direita possivel. Quando eu sair do loop j, o maior elemento estará na direita.\n",
    "            if my_lst[j] >= my_lst[j + 1]: \n",
    "                aux = my_lst[j]\n",
    "                my_lst[j] = my_lst[j + 1]\n",
    "                my_lst[j + 1] = aux\n",
    "\n",
    "    return my_lst\n",
    "\n",
    "%timeit bubble_sort(valores_randomicos)"
   ]
  },
  {
   "cell_type": "code",
   "execution_count": 11,
   "id": "2829d77c-bd72-4e2a-b682-d90aeae22883",
   "metadata": {},
   "outputs": [
    {
     "name": "stdout",
     "output_type": "stream",
     "text": [
      "563 µs ± 21.2 µs per loop (mean ± std. dev. of 7 runs, 1,000 loops each)\n"
     ]
    }
   ],
   "source": [
    "def insertion_sort(vector : list[int]) -> list[int]:\n",
    "    size = len(vector)\n",
    "    for i in range(1, size):\n",
    "        elem_highlighted  = vector[i] # Toda hora 1 elemento será marcado, e o que estiver a sua esquerda estará ordenado.\n",
    "\n",
    "        previous = i - 1 # Todos os elementos a esquerda do elemento marcado estará representado pela variável previous.\n",
    "        \n",
    "        while (previous >= 0 and elem_highlighted < vector[previous]): # Enquanto houver indice e o elemento marcado for menor...\n",
    "            vector[previous + 1] = vector[previous] # Deslocando...\n",
    "            previous -= 1\n",
    "        vector[previous + 1] = elem_highlighted # Encaixando o elemento na posição desejada...\n",
    "    \n",
    "    return vector\n",
    "\n",
    "%timeit insertion_sort(valores_randomicos)"
   ]
  },
  {
   "cell_type": "code",
   "execution_count": 12,
   "id": "11910380-340c-4e65-b146-572822ed91b4",
   "metadata": {},
   "outputs": [
    {
     "name": "stdout",
     "output_type": "stream",
     "text": [
      "566 ms ± 24.7 ms per loop (mean ± std. dev. of 7 runs, 1 loop each)\n"
     ]
    }
   ],
   "source": [
    "def selection_sort_it(vector : list[int]) -> list:\n",
    "    min = None\n",
    "    for i in range(len(vector)):\n",
    "        min = i\n",
    "        for j in range(i + 1, len(vector)): # Começarei a analisar após a variável i que já está na posição correta.\n",
    "            if vector[min] > vector[j]:\n",
    "                min = j\n",
    "        temp = vector[i]\n",
    "        vector[i] = vector[min]\n",
    "        vector[min] = temp\n",
    "    return vector\n",
    "\n",
    "%timeit selection_sort_it(valores_randomicos)"
   ]
  },
  {
   "cell_type": "code",
   "execution_count": null,
   "id": "4413a6c5-0762-452c-a263-757c8f2914b0",
   "metadata": {},
   "outputs": [],
   "source": [
    "def shell_sort(vector : list[int]) -> list[int]:\n",
    "    intervalo = len(vector) // 2 # Pegando o ponto central de 1 vetor.\n",
    "\n",
    "\n",
    "    while intervalo > 0: # Rodará enquanto eu puder dividir meu intervalo.\n",
    "        for i in range(intervalo, len(vector)): # Irei varrer o vetor o qual eu dividi.\n",
    "            temp = vector[i]\n",
    "            j = i # Salvando a posição parar comparar os valores de cada intervalo.\n",
    "\n",
    "            while j >= intervalo and vector[j - intervalo] > temp: # Entrará no loop enquanto der para trocar os valores\n",
    "                vector[j] = vector[j - intervalo] # Comparando os valores de cada posicao nos 2 intervalos...\n",
    "                j -= intervalo\n",
    "\n",
    "            vector[j] = temp\n",
    "\n",
    "        intervalo // 2 # Reduzindo o intervalo\n",
    "    return vector\n",
    "\n",
    "%timeit shell_sort(valores_randomicos)"
   ]
  },
  {
   "cell_type": "code",
   "execution_count": 16,
   "id": "0469eedb-8c13-4f15-b4f7-d28be5d00286",
   "metadata": {},
   "outputs": [
    {
     "name": "stdout",
     "output_type": "stream",
     "text": [
      "8.58 ms ± 60.9 µs per loop (mean ± std. dev. of 7 runs, 100 loops each)\n"
     ]
    }
   ],
   "source": [
    "def mergesort2(list, begin = 0, end = None):\n",
    "    if end is None:\n",
    "        end = len(list)\n",
    "    if (end - begin > 1):\n",
    "        half = (begin + end) // 2\n",
    "        # Irei dividir ambas as listas através de recursão e, quando ela ja estiver toda dividida, irei ter a variável half.\n",
    "        # Irei chamar a função merge quando a lista estiver toda dividida.\n",
    "        mergesort2(list, begin, half)\n",
    "        mergesort2(list, half, end)\n",
    "        merge(list, begin, half, end)\n",
    "\n",
    "# A função merge irá fazer o papel de ordenar toda a lista.\n",
    "def merge(list, begin, half, end):\n",
    "    left = list[begin : half]\n",
    "    right = list[half : end]\n",
    "    top_left_, top_right_ = 0, 0\n",
    "    for k in range(begin, end):\n",
    "        if top_left_ >= len(left): # Caso a lista da esquerda já tenha extrapolado todos os valores que a contém, irei usar apenas os valores da lista da direita.\n",
    "            list[k] = right[top_right_]\n",
    "            top_right_ = top_right_ + 1\n",
    "\n",
    "        elif top_right_ >= len(right): # Caso a lista da direita já tenha extrapolado todos os valores que a contém, irei usar apenas os valores da lista da esquerda.\n",
    "            list[k] = left[top_left_]\n",
    "            top_left_ = top_left_ + 1\n",
    "\n",
    "        elif left[top_left_] < right[top_right_]: # Irei comparar os valores na posição das 2 listas.\n",
    "            list[k] = left[top_left_]\n",
    "            top_left_ += 1\n",
    "        else:\n",
    "            list[k] = right[top_right_]\n",
    "            top_right_ += 1\n",
    "\n",
    "%timeit mergesort2(valores_randomicos)"
   ]
  },
  {
   "cell_type": "code",
   "execution_count": null,
   "id": "1c0cf7bd-1a96-410f-98b4-d7464e69d6f0",
   "metadata": {},
   "outputs": [],
   "source": []
  },
  {
   "cell_type": "code",
   "execution_count": null,
   "id": "b9378db3-b8e0-4f34-b91a-dcee87101443",
   "metadata": {},
   "outputs": [],
   "source": []
  }
 ],
 "metadata": {
  "kernelspec": {
   "display_name": "Python 3 (ipykernel)",
   "language": "python",
   "name": "python3"
  },
  "language_info": {
   "codemirror_mode": {
    "name": "ipython",
    "version": 3
   },
   "file_extension": ".py",
   "mimetype": "text/x-python",
   "name": "python",
   "nbconvert_exporter": "python",
   "pygments_lexer": "ipython3",
   "version": "3.10.12"
  }
 },
 "nbformat": 4,
 "nbformat_minor": 5
}
