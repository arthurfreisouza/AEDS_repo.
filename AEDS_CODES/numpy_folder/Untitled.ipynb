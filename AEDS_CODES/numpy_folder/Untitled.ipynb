{
 "cells": [
  {
   "cell_type": "code",
   "execution_count": 6,
   "id": "66afd9d0-bc07-4c9e-81f4-25716fcfa5c5",
   "metadata": {},
   "outputs": [],
   "source": [
    "import numpy as np"
   ]
  },
  {
   "cell_type": "code",
   "execution_count": 17,
   "id": "edbcaf45-6998-4d25-9df2-51ef16f24f44",
   "metadata": {},
   "outputs": [
    {
     "data": {
      "text/plain": [
       "array([1, 2, 3])"
      ]
     },
     "execution_count": 17,
     "metadata": {},
     "output_type": "execute_result"
    }
   ],
   "source": [
    "a = np.array([1, 2, 3])\n",
    "a"
   ]
  },
  {
   "cell_type": "code",
   "execution_count": 21,
   "id": "b38eac62-a4e1-47cb-b5c3-4f78b550fc28",
   "metadata": {},
   "outputs": [],
   "source": [
    "arr_ = a.astype(dtype = 'i')"
   ]
  },
  {
   "cell_type": "code",
   "execution_count": 22,
   "id": "0574987a-298c-43ba-bc97-049131247e1b",
   "metadata": {},
   "outputs": [
    {
     "name": "stdout",
     "output_type": "stream",
     "text": [
      "<class 'numpy.ndarray'>\n"
     ]
    }
   ],
   "source": [
    "print(type(arr_))"
   ]
  },
  {
   "cell_type": "code",
   "execution_count": null,
   "id": "0870994e-1fdd-46f0-95d3-8703f98673e8",
   "metadata": {},
   "outputs": [],
   "source": [
    "x = np.arange(start = -1, stop = 1, step = "
   ]
  },
  {
   "cell_type": "code",
   "execution_count": null,
   "id": "007d1ddb-3bc7-4172-a083-3e153a5b9a55",
   "metadata": {},
   "outputs": [],
   "source": []
  },
  {
   "cell_type": "code",
   "execution_count": null,
   "id": "ee050890-2ca7-4dbf-9c03-954ac1cfeef6",
   "metadata": {},
   "outputs": [],
   "source": []
  },
  {
   "cell_type": "code",
   "execution_count": null,
   "id": "89748264-852b-4b88-8dc8-5805d9fc9d5e",
   "metadata": {},
   "outputs": [],
   "source": []
  },
  {
   "cell_type": "code",
   "execution_count": null,
   "id": "99ef5192-d6d9-40ea-959a-a31c6a6c5358",
   "metadata": {},
   "outputs": [],
   "source": []
  },
  {
   "cell_type": "code",
   "execution_count": null,
   "id": "9f074c0b-b1a0-4c47-894c-e1c1f8fa8a94",
   "metadata": {},
   "outputs": [],
   "source": []
  },
  {
   "cell_type": "code",
   "execution_count": null,
   "id": "4f9ad89a-ba1d-48f7-a8bf-c4954022edf0",
   "metadata": {},
   "outputs": [],
   "source": []
  }
 ],
 "metadata": {
  "kernelspec": {
   "display_name": "Python 3 (ipykernel)",
   "language": "python",
   "name": "python3"
  },
  "language_info": {
   "codemirror_mode": {
    "name": "ipython",
    "version": 3
   },
   "file_extension": ".py",
   "mimetype": "text/x-python",
   "name": "python",
   "nbconvert_exporter": "python",
   "pygments_lexer": "ipython3",
   "version": "3.10.12"
  }
 },
 "nbformat": 4,
 "nbformat_minor": 5
}
